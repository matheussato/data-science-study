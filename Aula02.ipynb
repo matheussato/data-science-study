{
  "nbformat": 4,
  "nbformat_minor": 0,
  "metadata": {
    "colab": {
      "provenance": [],
      "authorship_tag": "ABX9TyP2xazLg7QzRFcogAHdzjTE",
      "include_colab_link": true
    },
    "kernelspec": {
      "name": "python3",
      "display_name": "Python 3"
    },
    "language_info": {
      "name": "python"
    }
  },
  "cells": [
    {
      "cell_type": "markdown",
      "metadata": {
        "id": "view-in-github",
        "colab_type": "text"
      },
      "source": [
        "<a href=\"https://colab.research.google.com/github/matheussato/data-science-study/blob/main/Aula02.ipynb\" target=\"_parent\"><img src=\"https://colab.research.google.com/assets/colab-badge.svg\" alt=\"Open In Colab\"/></a>"
      ]
    },
    {
      "cell_type": "code",
      "execution_count": null,
      "metadata": {
        "id": "vY0jyHVO24Et"
      },
      "outputs": [],
      "source": [
        "import pandas as pd"
      ]
    },
    {
      "cell_type": "code",
      "source": [
        "dados = pd.read_excel('/content/1-SEEG10_GERAL-BR_UF_2022.10.27-FINAL-SITE.xlsx',sheet_name = 'GEE Estados')\n"
      ],
      "metadata": {
        "id": "Z9vJ1bwT3uAw",
        "colab": {
          "base_uri": "https://localhost:8080/"
        },
        "outputId": "102f3f9a-8424-4f77-c710-f1048d77dfc6"
      },
      "execution_count": null,
      "outputs": [
        {
          "output_type": "stream",
          "name": "stderr",
          "text": [
            "/usr/local/lib/python3.10/dist-packages/openpyxl/worksheet/_reader.py:329: UserWarning: Unknown extension is not supported and will be removed\n",
            "  warn(msg)\n"
          ]
        }
      ]
    },
    {
      "cell_type": "code",
      "source": [
        "dados"
      ],
      "metadata": {
        "id": "ujj2rJWBcvuc"
      },
      "execution_count": null,
      "outputs": []
    },
    {
      "cell_type": "code",
      "source": [
        "dados.info()"
      ],
      "metadata": {
        "id": "6Uyk5KrmcyqS"
      },
      "execution_count": null,
      "outputs": []
    },
    {
      "cell_type": "code",
      "source": [
        "dados.isnull().sum()"
      ],
      "metadata": {
        "id": "iJI6h5u0koHJ"
      },
      "execution_count": null,
      "outputs": []
    },
    {
      "cell_type": "markdown",
      "source": [
        " Interesse somente na emissão de gases gerados pelos estados que estejam no inventário nacional, portanto identificar os tipos de dados únicos da colina emissão/remoção/bunker"
      ],
      "metadata": {
        "id": "HRKfv0STF_RR"
      }
    },
    {
      "cell_type": "code",
      "source": [
        "dados['Emissão / Remoção / Bunker'].unique()"
      ],
      "metadata": {
        "id": "L9SvXbCtcno7"
      },
      "execution_count": null,
      "outputs": []
    },
    {
      "cell_type": "code",
      "source": [
        "(dados['Emissão / Remoção / Bunker'] == 'Remoção NCI') | (dados['Emissão / Remoção / Bunker'] == 'Remoção')"
      ],
      "metadata": {
        "id": "NYfDOBqeIULZ"
      },
      "execution_count": null,
      "outputs": []
    },
    {
      "cell_type": "code",
      "source": [
        "dados[dados['Emissão / Remoção / Bunker'].isin(['Remoção NCI','Remoção'])]"
      ],
      "metadata": {
        "id": "Dmyq40BqIkGa"
      },
      "execution_count": null,
      "outputs": []
    },
    {
      "cell_type": "code",
      "source": [
        "dados.loc[dados['Emissão / Remoção / Bunker'].isin(['Remoção NCI','Remoção']),1970:2021]"
      ],
      "metadata": {
        "id": "xbbEJE4tI9Y-"
      },
      "execution_count": null,
      "outputs": []
    },
    {
      "cell_type": "markdown",
      "source": [
        "## Identificar se possui algum valor > 0"
      ],
      "metadata": {
        "id": "cbY86PAdM93J"
      }
    },
    {
      "cell_type": "code",
      "source": [
        "dados.loc[dados['Emissão / Remoção / Bunker'].isin(['Remoção NCI','Remoção']),1970:2021].max()"
      ],
      "metadata": {
        "id": "TLUy1cAwJl7o"
      },
      "execution_count": null,
      "outputs": []
    },
    {
      "cell_type": "markdown",
      "source": [
        "## Identificar de algum valor do tipo Bunker corresponde a alguma emissão feita por algum estado"
      ],
      "metadata": {
        "id": "ytUM4KvKNE4Q"
      }
    },
    {
      "cell_type": "code",
      "source": [
        "dados.loc[dados['Emissão / Remoção / Bunker']=='Bunker','Estado'].unique()"
      ],
      "metadata": {
        "colab": {
          "base_uri": "https://localhost:8080/"
        },
        "id": "WnsF9H03MyCx",
        "outputId": "4c1dfbd2-4f78-410b-b751-93f732d927cb"
      },
      "execution_count": null,
      "outputs": [
        {
          "output_type": "execute_result",
          "data": {
            "text/plain": [
              "array([nan], dtype=object)"
            ]
          },
          "metadata": {},
          "execution_count": 34
        }
      ]
    },
    {
      "cell_type": "code",
      "source": [
        "dados = dados[dados['Emissão / Remoção / Bunker']=='Emissão']\n",
        "dados"
      ],
      "metadata": {
        "id": "1vV6-D5fNwZv"
      },
      "execution_count": null,
      "outputs": []
    },
    {
      "cell_type": "markdown",
      "source": [],
      "metadata": {
        "id": "oIVONQzpPCP-"
      }
    },
    {
      "cell_type": "code",
      "source": [
        "dados = dados.drop(columns = 'Emissão / Remoção / Bunker' )"
      ],
      "metadata": {
        "id": "HGXRNDKnN3XH"
      },
      "execution_count": null,
      "outputs": []
    },
    {
      "cell_type": "code",
      "source": [
        "dados"
      ],
      "metadata": {
        "id": "CPC2I2gSPNLk"
      },
      "execution_count": null,
      "outputs": []
    },
    {
      "cell_type": "markdown",
      "source": [
        "## Modificando o formato do DataFrame"
      ],
      "metadata": {
        "id": "-KddEpGKP1p7"
      }
    },
    {
      "cell_type": "code",
      "source": [
        "colunas_info1 = list(dados.loc[:,'Nível 1 - Setor':'Produto'].columns)\n",
        "colunas_info"
      ],
      "metadata": {
        "id": "DtgE5P37POgb"
      },
      "execution_count": null,
      "outputs": []
    },
    {
      "cell_type": "code",
      "source": [
        "colunas_info2 = list(dados.loc[:,1970:2021].columns)\n",
        "colunas_info2\n"
      ],
      "metadata": {
        "id": "jFVcqiSCQJic"
      },
      "execution_count": null,
      "outputs": []
    },
    {
      "cell_type": "code",
      "source": [
        "emissoes_por_ano = dados.melt(id_vars = colunas_info, value_vars = colunas_info2, var_name = 'Ano', value_name = 'Emissão')\n",
        "emissoes_por_ano"
      ],
      "metadata": {
        "colab": {
          "base_uri": "https://localhost:8080/",
          "height": 424
        },
        "id": "3hswwE9rQSQM",
        "outputId": "f1e8bc5c-2f62-46c6-8aaf-d21a69acee93"
      },
      "execution_count": null,
      "outputs": [
        {
          "output_type": "execute_result",
          "data": {
            "text/plain": [
              "                            Nível 1 - Setor              Nível 2  \\\n",
              "0                     Processos Industriais    Indústria Química   \n",
              "1                     Processos Industriais    Indústria Química   \n",
              "2                     Processos Industriais    Indústria Química   \n",
              "3                     Processos Industriais    Indústria Química   \n",
              "4                     Processos Industriais    Indústria Química   \n",
              "...                                     ...                  ...   \n",
              "4926891  Mudança de Uso da Terra e Floresta  Resíduos Florestais   \n",
              "4926892  Mudança de Uso da Terra e Floresta  Resíduos Florestais   \n",
              "4926893  Mudança de Uso da Terra e Floresta  Resíduos Florestais   \n",
              "4926894  Mudança de Uso da Terra e Floresta  Resíduos Florestais   \n",
              "4926895  Mudança de Uso da Terra e Floresta  Resíduos Florestais   \n",
              "\n",
              "                           Nível 3 Nível 4       Nível 5 Nível 6  \\\n",
              "0                  Produção de ABS     NaN           NaN     NaN   \n",
              "1        Produção de Ácido Adípico     NaN           NaN     NaN   \n",
              "2        Produção de Ácido Adípico     NaN           NaN     NaN   \n",
              "3        Produção de Ácido Adípico     NaN           NaN     NaN   \n",
              "4        Produção de Ácido Adípico     NaN           NaN     NaN   \n",
              "...                            ...     ...           ...     ...   \n",
              "4926891                   Pantanal     NaN  Desmatamento     NaN   \n",
              "4926892                   Pantanal     NaN  Desmatamento     NaN   \n",
              "4926893                   Pantanal     NaN  Desmatamento     NaN   \n",
              "4926894                   Pantanal     NaN  Desmatamento     NaN   \n",
              "4926895                   Pantanal     NaN  Desmatamento     NaN   \n",
              "\n",
              "                      Gás Estado Atividade Econômica Produto   Ano    Emissão  \n",
              "0               COVNM (t)     SP           OUTRA_IND     NaN  1970        0.0  \n",
              "1                 N2O (t)     SP           OUTRA_IND     NaN  1970     6210.0  \n",
              "2                  CO (t)     SP           OUTRA_IND     NaN  1970      368.0  \n",
              "3                 NOx (t)     SP           OUTRA_IND     NaN  1970      115.0  \n",
              "4        CO2e (t) GWP-AR2     SP           OUTRA_IND     NaN  1970  1925100.0  \n",
              "...                   ...    ...                 ...     ...   ...        ...  \n",
              "4926891  CO2e (t) GWP-AR5     MS             AGROPEC     NaN  2021  1004191.0  \n",
              "4926892  CO2e (t) GWP-AR6     MT             AGROPEC     NaN  2021   443120.0  \n",
              "4926893  CO2e (t) GWP-AR6     MS             AGROPEC     NaN  2021  1009968.0  \n",
              "4926894           N2O (t)     MT             AGROPEC     NaN  2021      479.0  \n",
              "4926895           N2O (t)     MS             AGROPEC     NaN  2021     1047.0  \n",
              "\n",
              "[4926896 rows x 12 columns]"
            ],
            "text/html": [
              "\n",
              "  <div id=\"df-63b4db52-edeb-4135-b117-cb806516103f\" class=\"colab-df-container\">\n",
              "    <div>\n",
              "<style scoped>\n",
              "    .dataframe tbody tr th:only-of-type {\n",
              "        vertical-align: middle;\n",
              "    }\n",
              "\n",
              "    .dataframe tbody tr th {\n",
              "        vertical-align: top;\n",
              "    }\n",
              "\n",
              "    .dataframe thead th {\n",
              "        text-align: right;\n",
              "    }\n",
              "</style>\n",
              "<table border=\"1\" class=\"dataframe\">\n",
              "  <thead>\n",
              "    <tr style=\"text-align: right;\">\n",
              "      <th></th>\n",
              "      <th>Nível 1 - Setor</th>\n",
              "      <th>Nível 2</th>\n",
              "      <th>Nível 3</th>\n",
              "      <th>Nível 4</th>\n",
              "      <th>Nível 5</th>\n",
              "      <th>Nível 6</th>\n",
              "      <th>Gás</th>\n",
              "      <th>Estado</th>\n",
              "      <th>Atividade Econômica</th>\n",
              "      <th>Produto</th>\n",
              "      <th>Ano</th>\n",
              "      <th>Emissão</th>\n",
              "    </tr>\n",
              "  </thead>\n",
              "  <tbody>\n",
              "    <tr>\n",
              "      <th>0</th>\n",
              "      <td>Processos Industriais</td>\n",
              "      <td>Indústria Química</td>\n",
              "      <td>Produção de ABS</td>\n",
              "      <td>NaN</td>\n",
              "      <td>NaN</td>\n",
              "      <td>NaN</td>\n",
              "      <td>COVNM (t)</td>\n",
              "      <td>SP</td>\n",
              "      <td>OUTRA_IND</td>\n",
              "      <td>NaN</td>\n",
              "      <td>1970</td>\n",
              "      <td>0.0</td>\n",
              "    </tr>\n",
              "    <tr>\n",
              "      <th>1</th>\n",
              "      <td>Processos Industriais</td>\n",
              "      <td>Indústria Química</td>\n",
              "      <td>Produção de Ácido Adípico</td>\n",
              "      <td>NaN</td>\n",
              "      <td>NaN</td>\n",
              "      <td>NaN</td>\n",
              "      <td>N2O (t)</td>\n",
              "      <td>SP</td>\n",
              "      <td>OUTRA_IND</td>\n",
              "      <td>NaN</td>\n",
              "      <td>1970</td>\n",
              "      <td>6210.0</td>\n",
              "    </tr>\n",
              "    <tr>\n",
              "      <th>2</th>\n",
              "      <td>Processos Industriais</td>\n",
              "      <td>Indústria Química</td>\n",
              "      <td>Produção de Ácido Adípico</td>\n",
              "      <td>NaN</td>\n",
              "      <td>NaN</td>\n",
              "      <td>NaN</td>\n",
              "      <td>CO (t)</td>\n",
              "      <td>SP</td>\n",
              "      <td>OUTRA_IND</td>\n",
              "      <td>NaN</td>\n",
              "      <td>1970</td>\n",
              "      <td>368.0</td>\n",
              "    </tr>\n",
              "    <tr>\n",
              "      <th>3</th>\n",
              "      <td>Processos Industriais</td>\n",
              "      <td>Indústria Química</td>\n",
              "      <td>Produção de Ácido Adípico</td>\n",
              "      <td>NaN</td>\n",
              "      <td>NaN</td>\n",
              "      <td>NaN</td>\n",
              "      <td>NOx (t)</td>\n",
              "      <td>SP</td>\n",
              "      <td>OUTRA_IND</td>\n",
              "      <td>NaN</td>\n",
              "      <td>1970</td>\n",
              "      <td>115.0</td>\n",
              "    </tr>\n",
              "    <tr>\n",
              "      <th>4</th>\n",
              "      <td>Processos Industriais</td>\n",
              "      <td>Indústria Química</td>\n",
              "      <td>Produção de Ácido Adípico</td>\n",
              "      <td>NaN</td>\n",
              "      <td>NaN</td>\n",
              "      <td>NaN</td>\n",
              "      <td>CO2e (t) GWP-AR2</td>\n",
              "      <td>SP</td>\n",
              "      <td>OUTRA_IND</td>\n",
              "      <td>NaN</td>\n",
              "      <td>1970</td>\n",
              "      <td>1925100.0</td>\n",
              "    </tr>\n",
              "    <tr>\n",
              "      <th>...</th>\n",
              "      <td>...</td>\n",
              "      <td>...</td>\n",
              "      <td>...</td>\n",
              "      <td>...</td>\n",
              "      <td>...</td>\n",
              "      <td>...</td>\n",
              "      <td>...</td>\n",
              "      <td>...</td>\n",
              "      <td>...</td>\n",
              "      <td>...</td>\n",
              "      <td>...</td>\n",
              "      <td>...</td>\n",
              "    </tr>\n",
              "    <tr>\n",
              "      <th>4926891</th>\n",
              "      <td>Mudança de Uso da Terra e Floresta</td>\n",
              "      <td>Resíduos Florestais</td>\n",
              "      <td>Pantanal</td>\n",
              "      <td>NaN</td>\n",
              "      <td>Desmatamento</td>\n",
              "      <td>NaN</td>\n",
              "      <td>CO2e (t) GWP-AR5</td>\n",
              "      <td>MS</td>\n",
              "      <td>AGROPEC</td>\n",
              "      <td>NaN</td>\n",
              "      <td>2021</td>\n",
              "      <td>1004191.0</td>\n",
              "    </tr>\n",
              "    <tr>\n",
              "      <th>4926892</th>\n",
              "      <td>Mudança de Uso da Terra e Floresta</td>\n",
              "      <td>Resíduos Florestais</td>\n",
              "      <td>Pantanal</td>\n",
              "      <td>NaN</td>\n",
              "      <td>Desmatamento</td>\n",
              "      <td>NaN</td>\n",
              "      <td>CO2e (t) GWP-AR6</td>\n",
              "      <td>MT</td>\n",
              "      <td>AGROPEC</td>\n",
              "      <td>NaN</td>\n",
              "      <td>2021</td>\n",
              "      <td>443120.0</td>\n",
              "    </tr>\n",
              "    <tr>\n",
              "      <th>4926893</th>\n",
              "      <td>Mudança de Uso da Terra e Floresta</td>\n",
              "      <td>Resíduos Florestais</td>\n",
              "      <td>Pantanal</td>\n",
              "      <td>NaN</td>\n",
              "      <td>Desmatamento</td>\n",
              "      <td>NaN</td>\n",
              "      <td>CO2e (t) GWP-AR6</td>\n",
              "      <td>MS</td>\n",
              "      <td>AGROPEC</td>\n",
              "      <td>NaN</td>\n",
              "      <td>2021</td>\n",
              "      <td>1009968.0</td>\n",
              "    </tr>\n",
              "    <tr>\n",
              "      <th>4926894</th>\n",
              "      <td>Mudança de Uso da Terra e Floresta</td>\n",
              "      <td>Resíduos Florestais</td>\n",
              "      <td>Pantanal</td>\n",
              "      <td>NaN</td>\n",
              "      <td>Desmatamento</td>\n",
              "      <td>NaN</td>\n",
              "      <td>N2O (t)</td>\n",
              "      <td>MT</td>\n",
              "      <td>AGROPEC</td>\n",
              "      <td>NaN</td>\n",
              "      <td>2021</td>\n",
              "      <td>479.0</td>\n",
              "    </tr>\n",
              "    <tr>\n",
              "      <th>4926895</th>\n",
              "      <td>Mudança de Uso da Terra e Floresta</td>\n",
              "      <td>Resíduos Florestais</td>\n",
              "      <td>Pantanal</td>\n",
              "      <td>NaN</td>\n",
              "      <td>Desmatamento</td>\n",
              "      <td>NaN</td>\n",
              "      <td>N2O (t)</td>\n",
              "      <td>MS</td>\n",
              "      <td>AGROPEC</td>\n",
              "      <td>NaN</td>\n",
              "      <td>2021</td>\n",
              "      <td>1047.0</td>\n",
              "    </tr>\n",
              "  </tbody>\n",
              "</table>\n",
              "<p>4926896 rows × 12 columns</p>\n",
              "</div>\n",
              "    <div class=\"colab-df-buttons\">\n",
              "\n",
              "  <div class=\"colab-df-container\">\n",
              "    <button class=\"colab-df-convert\" onclick=\"convertToInteractive('df-63b4db52-edeb-4135-b117-cb806516103f')\"\n",
              "            title=\"Convert this dataframe to an interactive table.\"\n",
              "            style=\"display:none;\">\n",
              "\n",
              "  <svg xmlns=\"http://www.w3.org/2000/svg\" height=\"24px\" viewBox=\"0 -960 960 960\">\n",
              "    <path d=\"M120-120v-720h720v720H120Zm60-500h600v-160H180v160Zm220 220h160v-160H400v160Zm0 220h160v-160H400v160ZM180-400h160v-160H180v160Zm440 0h160v-160H620v160ZM180-180h160v-160H180v160Zm440 0h160v-160H620v160Z\"/>\n",
              "  </svg>\n",
              "    </button>\n",
              "\n",
              "  <style>\n",
              "    .colab-df-container {\n",
              "      display:flex;\n",
              "      gap: 12px;\n",
              "    }\n",
              "\n",
              "    .colab-df-convert {\n",
              "      background-color: #E8F0FE;\n",
              "      border: none;\n",
              "      border-radius: 50%;\n",
              "      cursor: pointer;\n",
              "      display: none;\n",
              "      fill: #1967D2;\n",
              "      height: 32px;\n",
              "      padding: 0 0 0 0;\n",
              "      width: 32px;\n",
              "    }\n",
              "\n",
              "    .colab-df-convert:hover {\n",
              "      background-color: #E2EBFA;\n",
              "      box-shadow: 0px 1px 2px rgba(60, 64, 67, 0.3), 0px 1px 3px 1px rgba(60, 64, 67, 0.15);\n",
              "      fill: #174EA6;\n",
              "    }\n",
              "\n",
              "    .colab-df-buttons div {\n",
              "      margin-bottom: 4px;\n",
              "    }\n",
              "\n",
              "    [theme=dark] .colab-df-convert {\n",
              "      background-color: #3B4455;\n",
              "      fill: #D2E3FC;\n",
              "    }\n",
              "\n",
              "    [theme=dark] .colab-df-convert:hover {\n",
              "      background-color: #434B5C;\n",
              "      box-shadow: 0px 1px 3px 1px rgba(0, 0, 0, 0.15);\n",
              "      filter: drop-shadow(0px 1px 2px rgba(0, 0, 0, 0.3));\n",
              "      fill: #FFFFFF;\n",
              "    }\n",
              "  </style>\n",
              "\n",
              "    <script>\n",
              "      const buttonEl =\n",
              "        document.querySelector('#df-63b4db52-edeb-4135-b117-cb806516103f button.colab-df-convert');\n",
              "      buttonEl.style.display =\n",
              "        google.colab.kernel.accessAllowed ? 'block' : 'none';\n",
              "\n",
              "      async function convertToInteractive(key) {\n",
              "        const element = document.querySelector('#df-63b4db52-edeb-4135-b117-cb806516103f');\n",
              "        const dataTable =\n",
              "          await google.colab.kernel.invokeFunction('convertToInteractive',\n",
              "                                                    [key], {});\n",
              "        if (!dataTable) return;\n",
              "\n",
              "        const docLinkHtml = 'Like what you see? Visit the ' +\n",
              "          '<a target=\"_blank\" href=https://colab.research.google.com/notebooks/data_table.ipynb>data table notebook</a>'\n",
              "          + ' to learn more about interactive tables.';\n",
              "        element.innerHTML = '';\n",
              "        dataTable['output_type'] = 'display_data';\n",
              "        await google.colab.output.renderOutput(dataTable, element);\n",
              "        const docLink = document.createElement('div');\n",
              "        docLink.innerHTML = docLinkHtml;\n",
              "        element.appendChild(docLink);\n",
              "      }\n",
              "    </script>\n",
              "  </div>\n",
              "\n",
              "\n",
              "<div id=\"df-0a76b360-6ac5-4d1c-9cc8-32e2dd07aa77\">\n",
              "  <button class=\"colab-df-quickchart\" onclick=\"quickchart('df-0a76b360-6ac5-4d1c-9cc8-32e2dd07aa77')\"\n",
              "            title=\"Suggest charts\"\n",
              "            style=\"display:none;\">\n",
              "\n",
              "<svg xmlns=\"http://www.w3.org/2000/svg\" height=\"24px\"viewBox=\"0 0 24 24\"\n",
              "     width=\"24px\">\n",
              "    <g>\n",
              "        <path d=\"M19 3H5c-1.1 0-2 .9-2 2v14c0 1.1.9 2 2 2h14c1.1 0 2-.9 2-2V5c0-1.1-.9-2-2-2zM9 17H7v-7h2v7zm4 0h-2V7h2v10zm4 0h-2v-4h2v4z\"/>\n",
              "    </g>\n",
              "</svg>\n",
              "  </button>\n",
              "\n",
              "<style>\n",
              "  .colab-df-quickchart {\n",
              "      --bg-color: #E8F0FE;\n",
              "      --fill-color: #1967D2;\n",
              "      --hover-bg-color: #E2EBFA;\n",
              "      --hover-fill-color: #174EA6;\n",
              "      --disabled-fill-color: #AAA;\n",
              "      --disabled-bg-color: #DDD;\n",
              "  }\n",
              "\n",
              "  [theme=dark] .colab-df-quickchart {\n",
              "      --bg-color: #3B4455;\n",
              "      --fill-color: #D2E3FC;\n",
              "      --hover-bg-color: #434B5C;\n",
              "      --hover-fill-color: #FFFFFF;\n",
              "      --disabled-bg-color: #3B4455;\n",
              "      --disabled-fill-color: #666;\n",
              "  }\n",
              "\n",
              "  .colab-df-quickchart {\n",
              "    background-color: var(--bg-color);\n",
              "    border: none;\n",
              "    border-radius: 50%;\n",
              "    cursor: pointer;\n",
              "    display: none;\n",
              "    fill: var(--fill-color);\n",
              "    height: 32px;\n",
              "    padding: 0;\n",
              "    width: 32px;\n",
              "  }\n",
              "\n",
              "  .colab-df-quickchart:hover {\n",
              "    background-color: var(--hover-bg-color);\n",
              "    box-shadow: 0 1px 2px rgba(60, 64, 67, 0.3), 0 1px 3px 1px rgba(60, 64, 67, 0.15);\n",
              "    fill: var(--button-hover-fill-color);\n",
              "  }\n",
              "\n",
              "  .colab-df-quickchart-complete:disabled,\n",
              "  .colab-df-quickchart-complete:disabled:hover {\n",
              "    background-color: var(--disabled-bg-color);\n",
              "    fill: var(--disabled-fill-color);\n",
              "    box-shadow: none;\n",
              "  }\n",
              "\n",
              "  .colab-df-spinner {\n",
              "    border: 2px solid var(--fill-color);\n",
              "    border-color: transparent;\n",
              "    border-bottom-color: var(--fill-color);\n",
              "    animation:\n",
              "      spin 1s steps(1) infinite;\n",
              "  }\n",
              "\n",
              "  @keyframes spin {\n",
              "    0% {\n",
              "      border-color: transparent;\n",
              "      border-bottom-color: var(--fill-color);\n",
              "      border-left-color: var(--fill-color);\n",
              "    }\n",
              "    20% {\n",
              "      border-color: transparent;\n",
              "      border-left-color: var(--fill-color);\n",
              "      border-top-color: var(--fill-color);\n",
              "    }\n",
              "    30% {\n",
              "      border-color: transparent;\n",
              "      border-left-color: var(--fill-color);\n",
              "      border-top-color: var(--fill-color);\n",
              "      border-right-color: var(--fill-color);\n",
              "    }\n",
              "    40% {\n",
              "      border-color: transparent;\n",
              "      border-right-color: var(--fill-color);\n",
              "      border-top-color: var(--fill-color);\n",
              "    }\n",
              "    60% {\n",
              "      border-color: transparent;\n",
              "      border-right-color: var(--fill-color);\n",
              "    }\n",
              "    80% {\n",
              "      border-color: transparent;\n",
              "      border-right-color: var(--fill-color);\n",
              "      border-bottom-color: var(--fill-color);\n",
              "    }\n",
              "    90% {\n",
              "      border-color: transparent;\n",
              "      border-bottom-color: var(--fill-color);\n",
              "    }\n",
              "  }\n",
              "</style>\n",
              "\n",
              "  <script>\n",
              "    async function quickchart(key) {\n",
              "      const quickchartButtonEl =\n",
              "        document.querySelector('#' + key + ' button');\n",
              "      quickchartButtonEl.disabled = true;  // To prevent multiple clicks.\n",
              "      quickchartButtonEl.classList.add('colab-df-spinner');\n",
              "      try {\n",
              "        const charts = await google.colab.kernel.invokeFunction(\n",
              "            'suggestCharts', [key], {});\n",
              "      } catch (error) {\n",
              "        console.error('Error during call to suggestCharts:', error);\n",
              "      }\n",
              "      quickchartButtonEl.classList.remove('colab-df-spinner');\n",
              "      quickchartButtonEl.classList.add('colab-df-quickchart-complete');\n",
              "    }\n",
              "    (() => {\n",
              "      let quickchartButtonEl =\n",
              "        document.querySelector('#df-0a76b360-6ac5-4d1c-9cc8-32e2dd07aa77 button');\n",
              "      quickchartButtonEl.style.display =\n",
              "        google.colab.kernel.accessAllowed ? 'block' : 'none';\n",
              "    })();\n",
              "  </script>\n",
              "</div>\n",
              "    </div>\n",
              "  </div>\n"
            ]
          },
          "metadata": {},
          "execution_count": 50
        }
      ]
    },
    {
      "cell_type": "markdown",
      "source": [
        "## Emissão total por tipo de gás"
      ],
      "metadata": {
        "id": "0BX7ReHpTsJ9"
      }
    },
    {
      "cell_type": "code",
      "source": [
        "emissoes_por_ano.groupby('Gás')"
      ],
      "metadata": {
        "id": "WdjBkYVeQ8xD",
        "colab": {
          "base_uri": "https://localhost:8080/"
        },
        "outputId": "a6dbf9e0-4834-400b-8f72-660b933590dc"
      },
      "execution_count": 54,
      "outputs": [
        {
          "output_type": "execute_result",
          "data": {
            "text/plain": [
              "<pandas.core.groupby.generic.DataFrameGroupBy object at 0x7bc8b2a95150>"
            ]
          },
          "metadata": {},
          "execution_count": 54
        }
      ]
    },
    {
      "cell_type": "code",
      "source": [
        "emissoes_por_ano.groupby('Gás').groups"
      ],
      "metadata": {
        "id": "sfho9K1RTzS-"
      },
      "execution_count": null,
      "outputs": []
    },
    {
      "cell_type": "code",
      "source": [
        "emissao_por_gas = emissoes_por_ano.groupby('Gás')[['Emissão']].sum().sort_values('Emissão',ascending = False)\n",
        "emissao_por_gas"
      ],
      "metadata": {
        "id": "XW2fKZHBT7Nq"
      },
      "execution_count": null,
      "outputs": []
    },
    {
      "cell_type": "code",
      "source": [
        "emissao_por_gas.plot(kind='barh',figsize=(10,6))"
      ],
      "metadata": {
        "colab": {
          "base_uri": "https://localhost:8080/",
          "height": 557
        },
        "id": "tWvWZ8WdUJt1",
        "outputId": "2d08bcb7-213b-49d8-ec19-916cc8bb1f99"
      },
      "execution_count": 67,
      "outputs": [
        {
          "output_type": "execute_result",
          "data": {
            "text/plain": [
              "<Axes: ylabel='Gás'>"
            ]
          },
          "metadata": {},
          "execution_count": 67
        },
        {
          "output_type": "display_data",
          "data": {
            "text/plain": [
              "<Figure size 1000x600 with 1 Axes>"
            ],
            "image/png": "[encoded data removed]"
          },
          "metadata": {}
        }
      ]
    },
    {
      "cell_type": "code",
      "source": [
        "emissao_por_gas.iloc[0:9].sum()"
      ],
      "metadata": {
        "colab": {
          "base_uri": "https://localhost:8080/"
        },
        "id": "yI3Ah5TfW0lF",
        "outputId": "546860e0-a842-462a-dc4b-3bedb8152d73"
      },
      "execution_count": 69,
      "outputs": [
        {
          "output_type": "execute_result",
          "data": {
            "text/plain": [
              "Emissão    6.249413e+11\n",
              "dtype: float64"
            ]
          },
          "metadata": {},
          "execution_count": 69
        }
      ]
    },
    {
      "cell_type": "code",
      "source": [
        "print(f'A emissão de CO2 corresponde a {float((emissao_por_gas.iloc[0:9].sum()/emissao_por_gas.sum()).iloc[0])*100:.2f}%  de emissão total de gás')"
      ],
      "metadata": {
        "colab": {
          "base_uri": "https://localhost:8080/"
        },
        "id": "3md8JXZZXH_i",
        "outputId": "843090e6-d292-4fc0-856e-0734808d97a0"
      },
      "execution_count": 74,
      "outputs": [
        {
          "output_type": "stream",
          "name": "stdout",
          "text": [
            "A emissão de CO2 corresponde a 99.74%  de emissão total de gás\n"
          ]
        }
      ]
    },
    {
      "cell_type": "code",
      "source": [],
      "metadata": {
        "id": "QZl5oSiAXv3l"
      },
      "execution_count": null,
      "outputs": []
    }
  ]
}